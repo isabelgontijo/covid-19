{
 "cells": [
  {
   "cell_type": "code",
   "execution_count": 1,
   "id": "411f2fa1",
   "metadata": {
    "ExecuteTime": {
     "end_time": "2022-01-13T18:11:23.215550Z",
     "start_time": "2022-01-13T18:11:23.203235Z"
    }
   },
   "outputs": [],
   "source": [
    "from pyspark.sql import Window\n",
    "import pyspark.sql.functions as F"
   ]
  },
  {
   "cell_type": "code",
   "execution_count": 2,
   "id": "dd66bee3",
   "metadata": {
    "ExecuteTime": {
     "end_time": "2022-01-13T18:11:23.236169Z",
     "start_time": "2022-01-13T18:11:23.219451Z"
    }
   },
   "outputs": [],
   "source": [
    "conv_path = '/Users/IsabelGontijo/git/covid-19/refined/data/01_conversion/'\n",
    "id_path = '/Users/IsabelGontijo/git/covid-19/refined/data/02_id_creation/'"
   ]
  },
  {
   "cell_type": "code",
   "execution_count": 3,
   "id": "28211124",
   "metadata": {
    "ExecuteTime": {
     "end_time": "2022-01-13T18:11:31.187129Z",
     "start_time": "2022-01-13T18:11:23.244551Z"
    }
   },
   "outputs": [],
   "source": [
    "df = spark.read.csv(conv_path, header = True, multiLine = True)"
   ]
  },
  {
   "cell_type": "code",
   "execution_count": 4,
   "id": "b2a1692e",
   "metadata": {
    "ExecuteTime": {
     "end_time": "2022-01-13T18:11:31.219507Z",
     "start_time": "2022-01-13T18:11:31.199569Z"
    }
   },
   "outputs": [],
   "source": [
    "def id_cidacs(df, startAt=0, col_date=None):\n",
    "    if not col_date: \n",
    "        w = Window.orderBy(F.lit(None))\n",
    "    else:\n",
    "        w = Window.orderBy(F.col(col_date))\n",
    "    return df.withColumn('id', F.row_number().over(w) + startAt)"
   ]
  },
  {
   "cell_type": "code",
   "execution_count": 5,
   "id": "1feb368f",
   "metadata": {
    "ExecuteTime": {
     "end_time": "2022-01-13T18:11:32.249360Z",
     "start_time": "2022-01-13T18:11:31.223246Z"
    }
   },
   "outputs": [],
   "source": [
    "df = id_cidacs(df, startAt=0, col_date='date')"
   ]
  },
  {
   "cell_type": "code",
   "execution_count": 6,
   "id": "03ebc497",
   "metadata": {
    "ExecuteTime": {
     "end_time": "2022-01-13T18:12:16.641093Z",
     "start_time": "2022-01-13T18:11:32.253851Z"
    }
   },
   "outputs": [],
   "source": [
    "df.write.csv(id_path, header=True, emptyValue='', mode='overwrite')"
   ]
  },
  {
   "cell_type": "code",
   "execution_count": 7,
   "id": "c018eb3a",
   "metadata": {
    "ExecuteTime": {
     "end_time": "2022-01-13T18:12:16.980251Z",
     "start_time": "2022-01-13T18:12:16.649435Z"
    }
   },
   "outputs": [],
   "source": [
    "if sc: sc.stop()"
   ]
  },
  {
   "cell_type": "code",
   "execution_count": null,
   "id": "d68d69c8",
   "metadata": {},
   "outputs": [],
   "source": []
  }
 ],
 "metadata": {
  "kernelspec": {
   "display_name": "Python 3",
   "language": "python",
   "name": "python3"
  },
  "language_info": {
   "codemirror_mode": {
    "name": "ipython",
    "version": 3
   },
   "file_extension": ".py",
   "mimetype": "text/x-python",
   "name": "python",
   "nbconvert_exporter": "python",
   "pygments_lexer": "ipython3",
   "version": "3.8.11"
  }
 },
 "nbformat": 4,
 "nbformat_minor": 5
}
