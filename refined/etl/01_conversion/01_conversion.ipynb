{
 "cells": [
  {
   "cell_type": "code",
   "execution_count": 1,
   "id": "f559cbbc",
   "metadata": {
    "ExecuteTime": {
     "end_time": "2022-01-13T14:56:26.657771Z",
     "start_time": "2022-01-13T14:56:26.633903Z"
    }
   },
   "outputs": [],
   "source": [
    "import pyspark.sql.functions as F\n",
    "import struct\n",
    "from tqdm import tqdm"
   ]
  },
  {
   "cell_type": "code",
   "execution_count": 2,
   "id": "92053fad",
   "metadata": {
    "ExecuteTime": {
     "end_time": "2022-01-13T14:56:26.666537Z",
     "start_time": "2022-01-13T14:56:26.662427Z"
    }
   },
   "outputs": [],
   "source": [
    "raw_data = '/Users/IsabelGontijo/git/covid-19/raw/data/cases-brazil-cities-time.csv'\n",
    "tmp = '/Users/IsabelGontijo/temp' \n",
    "conv_path = '/Users/IsabelGontijo/git/covid-19/refined/data/01_conversion/' "
   ]
  },
  {
   "cell_type": "code",
   "execution_count": 3,
   "id": "61b51249",
   "metadata": {
    "ExecuteTime": {
     "end_time": "2022-01-13T14:56:30.944988Z",
     "start_time": "2022-01-13T14:56:26.674103Z"
    }
   },
   "outputs": [],
   "source": [
    "!iconv -f utf-8 -t ascii//TRANSLIT $raw_data > $tmp/tmp.csv"
   ]
  },
  {
   "cell_type": "code",
   "execution_count": 4,
   "id": "00629b2a",
   "metadata": {
    "ExecuteTime": {
     "end_time": "2022-01-13T14:56:47.137038Z",
     "start_time": "2022-01-13T14:56:30.950040Z"
    }
   },
   "outputs": [],
   "source": [
    "!sed \"s/[\\'\\^\\~]//g\" $tmp/tmp.csv > $tmp/tmp2.csv"
   ]
  },
  {
   "cell_type": "code",
   "execution_count": 6,
   "id": "96e13679",
   "metadata": {
    "ExecuteTime": {
     "end_time": "2022-01-13T15:03:59.039768Z",
     "start_time": "2022-01-13T15:03:54.196242Z"
    }
   },
   "outputs": [],
   "source": [
    "df = spark.read.csv(f'{tmp}/tmp2.csv', header=True, multiLine=True)"
   ]
  },
  {
   "cell_type": "code",
   "execution_count": 7,
   "id": "0bb31c86",
   "metadata": {
    "ExecuteTime": {
     "end_time": "2022-01-13T15:04:46.807591Z",
     "start_time": "2022-01-13T15:04:43.759075Z"
    }
   },
   "outputs": [
    {
     "name": "stderr",
     "output_type": "stream",
     "text": [
      "100%|██████████| 12/12 [00:02<00:00,  4.23it/s]\n"
     ]
    }
   ],
   "source": [
    "# List of special characters\n",
    "special_chars = [struct.pack('B', x).decode() for x in range(1, 32) if x != 10] + [\"\\n\"]\n",
    "for col in tqdm(df.columns):\n",
    "    # Replace \\t\n",
    "    df = df.withColumn(col, F.regexp_replace(F.col(col), '\\t+', ' ')) # adicionar F.trim\n",
    "    # Remove special characters with pyspark and upper fields\n",
    "    df = df.withColumn(col, F.upper(F.regexp_replace(F.col(col), \"|\".join(special_chars), '')))"
   ]
  },
  {
   "cell_type": "code",
   "execution_count": 8,
   "id": "812960bb",
   "metadata": {
    "ExecuteTime": {
     "end_time": "2022-01-13T15:11:41.325059Z",
     "start_time": "2022-01-13T15:09:49.862120Z"
    }
   },
   "outputs": [],
   "source": [
    "df.write.csv(conv_path, header=True, emptyValue='', mode='overwrite')"
   ]
  },
  {
   "cell_type": "code",
   "execution_count": 9,
   "id": "88dc87d9",
   "metadata": {
    "ExecuteTime": {
     "end_time": "2022-01-13T15:13:26.254421Z",
     "start_time": "2022-01-13T15:13:26.114692Z"
    }
   },
   "outputs": [],
   "source": [
    "!rm {tmp}/tmp.csv"
   ]
  },
  {
   "cell_type": "code",
   "execution_count": 10,
   "id": "ca024baa",
   "metadata": {
    "ExecuteTime": {
     "end_time": "2022-01-13T15:13:27.450846Z",
     "start_time": "2022-01-13T15:13:27.002670Z"
    }
   },
   "outputs": [],
   "source": [
    "if sc: sc.stop()"
   ]
  },
  {
   "cell_type": "code",
   "execution_count": null,
   "id": "7d62c72b",
   "metadata": {},
   "outputs": [],
   "source": []
  }
 ],
 "metadata": {
  "kernelspec": {
   "display_name": "Python 3",
   "language": "python",
   "name": "python3"
  },
  "language_info": {
   "codemirror_mode": {
    "name": "ipython",
    "version": 3
   },
   "file_extension": ".py",
   "mimetype": "text/x-python",
   "name": "python",
   "nbconvert_exporter": "python",
   "pygments_lexer": "ipython3",
   "version": "3.8.11"
  }
 },
 "nbformat": 4,
 "nbformat_minor": 5
}
