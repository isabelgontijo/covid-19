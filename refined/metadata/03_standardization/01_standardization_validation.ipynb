{
 "cells": [
  {
   "cell_type": "code",
   "execution_count": 1,
   "id": "ada372b9",
   "metadata": {
    "ExecuteTime": {
     "end_time": "2022-01-13T18:24:32.084069Z",
     "start_time": "2022-01-13T18:24:32.073584Z"
    }
   },
   "outputs": [],
   "source": [
    "import sys\n",
    "sys.path.append('/Users/IsabelGontijo/opt/miniconda3/lib/python3.9')"
   ]
  },
  {
   "cell_type": "code",
   "execution_count": 2,
   "id": "75e36f14",
   "metadata": {
    "ExecuteTime": {
     "end_time": "2022-01-13T18:24:32.744609Z",
     "start_time": "2022-01-13T18:24:32.093729Z"
    }
   },
   "outputs": [
    {
     "name": "stdout",
     "output_type": "stream",
     "text": [
      "Tempo inicial da execucao: 2022-01-13 15:24:32.741743\n",
      "User: IsabelGontijo\n",
      "Node: Mac-mini-de-Isabel.local\n"
     ]
    }
   ],
   "source": [
    "import cidacs\n",
    "from cidacs import *"
   ]
  },
  {
   "cell_type": "code",
   "execution_count": 3,
   "id": "2d743a4b",
   "metadata": {
    "ExecuteTime": {
     "end_time": "2022-01-13T18:24:32.763091Z",
     "start_time": "2022-01-13T18:24:32.753714Z"
    }
   },
   "outputs": [],
   "source": [
    "id_path = '/Users/IsabelGontijo/git/covid-19/refined/data/02_id_creation/'\n",
    "std_path = '/Users/IsabelGontijo/git/covid-19/refined/data/03_standardization/'\n",
    "dic_file = '/Users/IsabelGontijo/git/covid-19/refined/metadata/03_standardization/dic.csv'"
   ]
  },
  {
   "cell_type": "code",
   "execution_count": 4,
   "id": "a1586410",
   "metadata": {
    "ExecuteTime": {
     "end_time": "2022-01-13T18:24:38.317983Z",
     "start_time": "2022-01-13T18:24:32.768735Z"
    }
   },
   "outputs": [],
   "source": [
    "df_id = spark.read.csv(id_path, header = True, multiLine = True)\n",
    "df_std = spark.read.parquet(std_path)"
   ]
  },
  {
   "cell_type": "code",
   "execution_count": 5,
   "id": "5d6e1235",
   "metadata": {
    "ExecuteTime": {
     "end_time": "2022-01-13T18:24:40.579440Z",
     "start_time": "2022-01-13T18:24:38.320571Z"
    }
   },
   "outputs": [],
   "source": [
    "#Load dictionary\n",
    "dic = spark.read.csv(dic_file, header=False, multiLine = True)\n",
    "bytes = [x._c0.strip().lower() for x in dic.filter((dic['_c1'] == 'Byte')).collect() if x._c0.strip().lower() in df_id.columns]\n",
    "dates = [x._c0.strip().lower() for x in dic.filter((dic['_c1'] == 'Date')).collect() if x._c0.strip().lower() in df_id.columns]"
   ]
  },
  {
   "cell_type": "code",
   "execution_count": 6,
   "id": "aab7dd28",
   "metadata": {
    "ExecuteTime": {
     "end_time": "2022-01-13T18:24:40.640577Z",
     "start_time": "2022-01-13T18:24:40.589709Z"
    },
    "scrolled": true
   },
   "outputs": [
    {
     "name": "stdout",
     "output_type": "stream",
     "text": [
      "root\n",
      " |-- epi_week: string (nullable = true)\n",
      " |-- date: string (nullable = true)\n",
      " |-- state: string (nullable = true)\n",
      " |-- city: string (nullable = true)\n",
      " |-- ibgeID: string (nullable = true)\n",
      " |-- newDeaths: string (nullable = true)\n",
      " |-- deaths: string (nullable = true)\n",
      " |-- newCases: string (nullable = true)\n",
      " |-- totalCases: string (nullable = true)\n",
      " |-- deaths_per_100k_inhabitants: string (nullable = true)\n",
      " |-- totalCases_per_100k_inhabitants: string (nullable = true)\n",
      " |-- deaths_by_totalCases: string (nullable = true)\n",
      " |-- id: string (nullable = true)\n",
      "\n",
      "None\n",
      "root\n",
      " |-- epi_week: integer (nullable = true)\n",
      " |-- date: date (nullable = true)\n",
      " |-- state: byte (nullable = true)\n",
      " |-- city: string (nullable = true)\n",
      " |-- ibgeid: integer (nullable = true)\n",
      " |-- newdeaths: integer (nullable = true)\n",
      " |-- deaths: integer (nullable = true)\n",
      " |-- newcases: integer (nullable = true)\n",
      " |-- totalcases: integer (nullable = true)\n",
      " |-- deaths_per_100k_inhabitants: double (nullable = true)\n",
      " |-- totalcases_per_100k_inhabitants: double (nullable = true)\n",
      " |-- deaths_by_totalcases: double (nullable = true)\n",
      " |-- id: long (nullable = true)\n",
      "\n",
      "None\n"
     ]
    }
   ],
   "source": [
    "print(df_id.printSchema())\n",
    "print(df_std.printSchema())"
   ]
  },
  {
   "cell_type": "code",
   "execution_count": 7,
   "id": "0bf9c311",
   "metadata": {
    "ExecuteTime": {
     "end_time": "2022-01-13T18:24:40.707947Z",
     "start_time": "2022-01-13T18:24:40.660306Z"
    }
   },
   "outputs": [
    {
     "name": "stdout",
     "output_type": "stream",
     "text": [
      "Existem colunas diferentes:  {'newcases', 'ibgeid', 'newdeaths', 'deaths_by_totalcases', 'totalcases', 'totalcases_per_100k_inhabitants'}\n"
     ]
    }
   ],
   "source": [
    "print(\"Existem colunas diferentes: \", set(df_std.columns) - set(df_id.columns) )"
   ]
  },
  {
   "cell_type": "code",
   "execution_count": 8,
   "id": "012c0abb",
   "metadata": {
    "ExecuteTime": {
     "end_time": "2022-01-13T18:24:44.446071Z",
     "start_time": "2022-01-13T18:24:40.740710Z"
    }
   },
   "outputs": [
    {
     "name": "stdout",
     "output_type": "stream",
     "text": [
      "Quantidade de registros antes da padronização:  3424340\n",
      "Quantidade de registros após padronização:  3424340\n"
     ]
    }
   ],
   "source": [
    "print(\"Quantidade de registros antes da padronização: \",df_id.count())\n",
    "print(\"Quantidade de registros após padronização: \",df_std.count())"
   ]
  },
  {
   "cell_type": "code",
   "execution_count": 9,
   "id": "9bdcf00d",
   "metadata": {
    "ExecuteTime": {
     "end_time": "2022-01-13T18:24:54.805374Z",
     "start_time": "2022-01-13T18:24:44.451479Z"
    },
    "scrolled": true
   },
   "outputs": [
    {
     "name": "stdout",
     "output_type": "stream",
     "text": [
      "state\n",
      "nulos ->  df_id:  0   -    df_std:  0\n",
      "+-----+--------+\n",
      "|state|count(1)|\n",
      "+-----+--------+\n",
      "|   53|     677|\n",
      "|   52|  148005|\n",
      "|   51|   85764|\n",
      "|   50|   48352|\n",
      "|   43|  298122|\n",
      "|   42|  182000|\n",
      "|   41|  242141|\n",
      "|   35|  400370|\n",
      "|   33|   59825|\n",
      "|   32|   50368|\n",
      "|   31|  510856|\n",
      "|   29|  256074|\n",
      "|   28|   47191|\n",
      "|   27|   63748|\n",
      "|   26|  117051|\n",
      "|   25|  136751|\n",
      "|   24|  103815|\n",
      "|   23|  117302|\n",
      "|   22|  135650|\n",
      "|   21|  134997|\n",
      "|   17|   85332|\n",
      "|   16|   10779|\n",
      "|   15|   91300|\n",
      "|   14|   10145|\n",
      "|   13|   39921|\n",
      "|   12|   14388|\n",
      "|   11|   32728|\n",
      "|    1|     688|\n",
      "+-----+--------+\n",
      "\n",
      "+-----+--------+\n",
      "|state|count(1)|\n",
      "+-----+--------+\n",
      "|TOTAL|     688|\n",
      "|   TO|   85332|\n",
      "|   SP|  400370|\n",
      "|   SE|   47191|\n",
      "|   SC|  182000|\n",
      "|   RS|  298122|\n",
      "|   RR|   10145|\n",
      "|   RO|   32728|\n",
      "|   RN|  103815|\n",
      "|   RJ|   59825|\n",
      "|   PR|  242141|\n",
      "|   PI|  135650|\n",
      "|   PE|  117051|\n",
      "|   PB|  136751|\n",
      "|   PA|   91300|\n",
      "|   MT|   85764|\n",
      "|   MS|   48352|\n",
      "|   MG|  510856|\n",
      "|   MA|  134997|\n",
      "|   GO|  148005|\n",
      "|   ES|   50368|\n",
      "|   DF|     677|\n",
      "|   CE|  117302|\n",
      "|   BA|  256074|\n",
      "|   AP|   10779|\n",
      "|   AM|   39921|\n",
      "|   AL|   63748|\n",
      "|   AC|   14388|\n",
      "+-----+--------+\n",
      "\n",
      "\n"
     ]
    }
   ],
   "source": [
    "for column in bytes:\n",
    "    print(column)\n",
    "    df_id_Null = df_id.filter(df_id[column].isNull()).count()\n",
    "    df_std_Null =  df_std.filter(df_std[column].isNull()).count()\n",
    "    print(\"nulos ->  df_id:  {}   -    df_std:  {}\".format(df_id_Null,df_std_Null))\n",
    "    df_std.groupBy(column).agg({'*':'count'}).select(column,F.col('count(1)')).orderBy(F.col(column).desc()).show(200)\n",
    "    df_id.groupBy(column).agg({'*':'count'}).select(column,F.col('count(1)')).orderBy(F.col(column).desc()).show(200)\n",
    "    print()"
   ]
  },
  {
   "cell_type": "code",
   "execution_count": 10,
   "id": "1ee884bc",
   "metadata": {
    "ExecuteTime": {
     "end_time": "2022-01-13T18:24:59.666458Z",
     "start_time": "2022-01-13T18:24:54.809678Z"
    }
   },
   "outputs": [
    {
     "name": "stdout",
     "output_type": "stream",
     "text": [
      "date\n",
      "nulos ->  df_id:  0   -    df_std:  0\n",
      "+----------+--------+\n",
      "|year(date)|count(1)|\n",
      "+----------+--------+\n",
      "|      2022|   67164|\n",
      "|      2021| 2042733|\n",
      "|      2020| 1314443|\n",
      "+----------+--------+\n",
      "\n",
      "\n"
     ]
    }
   ],
   "source": [
    "for column in dates:\n",
    "    print(column)\n",
    "    df_id_Null = df_id.filter(df_id[column].isNull()).count()\n",
    "    df_std_Null =  df_std.filter(df_std[column].isNull()).count()\n",
    "    print(\"nulos ->  df_id:  {}   -    df_std:  {}\".format(df_id_Null,df_std_Null))\n",
    "    df_std.groupBy(F.year(column)).agg({'*':'count'}).select('year('+column+')',F.col('count(1)')).orderBy(F.col('year('+column+')').desc()).show(200)\n",
    "    #Change this line to manipulate the date as a string depending on the format.\n",
    "    #df.select(F.substring(df[column], 5, 4).alias(column)).groupBy(column).count().orderBy(F.col('count').desc()).show()\n",
    "    print()"
   ]
  },
  {
   "cell_type": "code",
   "execution_count": 11,
   "id": "591c1990",
   "metadata": {
    "ExecuteTime": {
     "end_time": "2022-01-13T18:24:59.682372Z",
     "start_time": "2022-01-13T18:24:59.670525Z"
    }
   },
   "outputs": [
    {
     "name": "stdout",
     "output_type": "stream",
     "text": [
      "Tempo de execucao ate este ponto: 0:00:26.929696\n"
     ]
    }
   ],
   "source": [
    "cidacs.executionTime()"
   ]
  },
  {
   "cell_type": "code",
   "execution_count": 12,
   "id": "4099840d",
   "metadata": {
    "ExecuteTime": {
     "end_time": "2022-01-13T18:25:00.038738Z",
     "start_time": "2022-01-13T18:24:59.688769Z"
    }
   },
   "outputs": [],
   "source": [
    "sc.stop()"
   ]
  },
  {
   "cell_type": "code",
   "execution_count": null,
   "id": "f7b84d61",
   "metadata": {},
   "outputs": [],
   "source": []
  }
 ],
 "metadata": {
  "kernelspec": {
   "display_name": "Python 3",
   "language": "python",
   "name": "python3"
  },
  "language_info": {
   "codemirror_mode": {
    "name": "ipython",
    "version": 3
   },
   "file_extension": ".py",
   "mimetype": "text/x-python",
   "name": "python",
   "nbconvert_exporter": "python",
   "pygments_lexer": "ipython3",
   "version": "3.8.11"
  }
 },
 "nbformat": 4,
 "nbformat_minor": 5
}
