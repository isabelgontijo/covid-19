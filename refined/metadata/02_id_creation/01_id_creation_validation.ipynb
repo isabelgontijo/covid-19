{
 "cells": [
  {
   "cell_type": "code",
   "execution_count": 1,
   "id": "411f2fa1",
   "metadata": {
    "ExecuteTime": {
     "end_time": "2022-01-13T18:14:01.187591Z",
     "start_time": "2022-01-13T18:14:00.230647Z"
    }
   },
   "outputs": [],
   "source": [
    "import pyspark.sql.functions as F\n",
    "from pyspark.sql.types import *\n",
    "import pandas as pd"
   ]
  },
  {
   "cell_type": "code",
   "execution_count": 2,
   "id": "e7231ce2",
   "metadata": {
    "ExecuteTime": {
     "end_time": "2022-01-13T18:14:01.199261Z",
     "start_time": "2022-01-13T18:14:01.190812Z"
    }
   },
   "outputs": [],
   "source": [
    "def show (df,n):\n",
    "    from IPython import display\n",
    "    display.display(df.limit(n).toPandas())"
   ]
  },
  {
   "cell_type": "code",
   "execution_count": 3,
   "id": "dd66bee3",
   "metadata": {
    "ExecuteTime": {
     "end_time": "2022-01-13T18:14:01.216857Z",
     "start_time": "2022-01-13T18:14:01.206227Z"
    }
   },
   "outputs": [],
   "source": [
    "id_path = '/Users/IsabelGontijo/git/covid-19/refined/data/02_id_creation/' "
   ]
  },
  {
   "cell_type": "code",
   "execution_count": 4,
   "id": "28211124",
   "metadata": {
    "ExecuteTime": {
     "end_time": "2022-01-13T18:14:08.801727Z",
     "start_time": "2022-01-13T18:14:01.227956Z"
    },
    "scrolled": true
   },
   "outputs": [
    {
     "data": {
      "text/html": [
       "<div>\n",
       "<style scoped>\n",
       "    .dataframe tbody tr th:only-of-type {\n",
       "        vertical-align: middle;\n",
       "    }\n",
       "\n",
       "    .dataframe tbody tr th {\n",
       "        vertical-align: top;\n",
       "    }\n",
       "\n",
       "    .dataframe thead th {\n",
       "        text-align: right;\n",
       "    }\n",
       "</style>\n",
       "<table border=\"1\" class=\"dataframe\">\n",
       "  <thead>\n",
       "    <tr style=\"text-align: right;\">\n",
       "      <th></th>\n",
       "      <th>epi_week</th>\n",
       "      <th>date</th>\n",
       "      <th>state</th>\n",
       "      <th>city</th>\n",
       "      <th>ibgeID</th>\n",
       "      <th>newDeaths</th>\n",
       "      <th>deaths</th>\n",
       "      <th>newCases</th>\n",
       "      <th>totalCases</th>\n",
       "      <th>deaths_per_100k_inhabitants</th>\n",
       "      <th>totalCases_per_100k_inhabitants</th>\n",
       "      <th>deaths_by_totalCases</th>\n",
       "      <th>id</th>\n",
       "    </tr>\n",
       "  </thead>\n",
       "  <tbody>\n",
       "    <tr>\n",
       "      <th>0</th>\n",
       "      <td>9</td>\n",
       "      <td>2020-02-25</td>\n",
       "      <td>SP</td>\n",
       "      <td>SAO PAULO/SP</td>\n",
       "      <td>3550308</td>\n",
       "      <td>0</td>\n",
       "      <td>0</td>\n",
       "      <td>1</td>\n",
       "      <td>1</td>\n",
       "      <td>0.000</td>\n",
       "      <td>0.008</td>\n",
       "      <td>0.000</td>\n",
       "      <td>1</td>\n",
       "    </tr>\n",
       "    <tr>\n",
       "      <th>1</th>\n",
       "      <td>9</td>\n",
       "      <td>2020-02-25</td>\n",
       "      <td>TOTAL</td>\n",
       "      <td>TOTAL</td>\n",
       "      <td>0</td>\n",
       "      <td>0</td>\n",
       "      <td>0</td>\n",
       "      <td>1</td>\n",
       "      <td>1</td>\n",
       "      <td>0.000</td>\n",
       "      <td>0.000</td>\n",
       "      <td>0.000</td>\n",
       "      <td>2</td>\n",
       "    </tr>\n",
       "    <tr>\n",
       "      <th>2</th>\n",
       "      <td>9</td>\n",
       "      <td>2020-02-26</td>\n",
       "      <td>SP</td>\n",
       "      <td>SAO PAULO/SP</td>\n",
       "      <td>3550308</td>\n",
       "      <td>0</td>\n",
       "      <td>0</td>\n",
       "      <td>0</td>\n",
       "      <td>1</td>\n",
       "      <td>0.000</td>\n",
       "      <td>0.008</td>\n",
       "      <td>0.000</td>\n",
       "      <td>3</td>\n",
       "    </tr>\n",
       "    <tr>\n",
       "      <th>3</th>\n",
       "      <td>9</td>\n",
       "      <td>2020-02-26</td>\n",
       "      <td>TOTAL</td>\n",
       "      <td>TOTAL</td>\n",
       "      <td>0</td>\n",
       "      <td>0</td>\n",
       "      <td>0</td>\n",
       "      <td>0</td>\n",
       "      <td>1</td>\n",
       "      <td>0.000</td>\n",
       "      <td>0.000</td>\n",
       "      <td>0.000</td>\n",
       "      <td>4</td>\n",
       "    </tr>\n",
       "    <tr>\n",
       "      <th>4</th>\n",
       "      <td>9</td>\n",
       "      <td>2020-02-27</td>\n",
       "      <td>SP</td>\n",
       "      <td>SAO PAULO/SP</td>\n",
       "      <td>3550308</td>\n",
       "      <td>0</td>\n",
       "      <td>0</td>\n",
       "      <td>0</td>\n",
       "      <td>1</td>\n",
       "      <td>0.000</td>\n",
       "      <td>0.008</td>\n",
       "      <td>0.000</td>\n",
       "      <td>5</td>\n",
       "    </tr>\n",
       "  </tbody>\n",
       "</table>\n",
       "</div>"
      ],
      "text/plain": [
       "  epi_week        date  state          city   ibgeID newDeaths deaths  \\\n",
       "0        9  2020-02-25     SP  SAO PAULO/SP  3550308         0      0   \n",
       "1        9  2020-02-25  TOTAL         TOTAL        0         0      0   \n",
       "2        9  2020-02-26     SP  SAO PAULO/SP  3550308         0      0   \n",
       "3        9  2020-02-26  TOTAL         TOTAL        0         0      0   \n",
       "4        9  2020-02-27     SP  SAO PAULO/SP  3550308         0      0   \n",
       "\n",
       "  newCases totalCases deaths_per_100k_inhabitants  \\\n",
       "0        1          1                       0.000   \n",
       "1        1          1                       0.000   \n",
       "2        0          1                       0.000   \n",
       "3        0          1                       0.000   \n",
       "4        0          1                       0.000   \n",
       "\n",
       "  totalCases_per_100k_inhabitants deaths_by_totalCases id  \n",
       "0                           0.008                0.000  1  \n",
       "1                           0.000                0.000  2  \n",
       "2                           0.008                0.000  3  \n",
       "3                           0.000                0.000  4  \n",
       "4                           0.008                0.000  5  "
      ]
     },
     "metadata": {},
     "output_type": "display_data"
    }
   ],
   "source": [
    "df = spark.read.csv(id_path, header = True, multiLine = True)\n",
    "show(df, 5)"
   ]
  },
  {
   "cell_type": "code",
   "execution_count": 5,
   "id": "fe094879",
   "metadata": {
    "ExecuteTime": {
     "end_time": "2022-01-13T18:14:09.033558Z",
     "start_time": "2022-01-13T18:14:08.804416Z"
    }
   },
   "outputs": [],
   "source": [
    "df = df.withColumn('id', F.col('id').cast(LongType()))"
   ]
  },
  {
   "cell_type": "code",
   "execution_count": 6,
   "id": "f3e44e96",
   "metadata": {
    "ExecuteTime": {
     "end_time": "2022-01-13T18:14:24.127885Z",
     "start_time": "2022-01-13T18:14:09.036478Z"
    },
    "scrolled": false
   },
   "outputs": [
    {
     "name": "stdout",
     "output_type": "stream",
     "text": [
      "3424340\n",
      "3424340\n"
     ]
    }
   ],
   "source": [
    "print(df.select('id').distinct().count())\n",
    "print(df.count())"
   ]
  },
  {
   "cell_type": "code",
   "execution_count": 7,
   "id": "7cbc3ee6",
   "metadata": {
    "ExecuteTime": {
     "end_time": "2022-01-13T18:14:27.404465Z",
     "start_time": "2022-01-13T18:14:24.137201Z"
    }
   },
   "outputs": [
    {
     "name": "stdout",
     "output_type": "stream",
     "text": [
      "+-------+-------+\n",
      "|min(id)|max(id)|\n",
      "+-------+-------+\n",
      "|      1|3424340|\n",
      "+-------+-------+\n",
      "\n"
     ]
    }
   ],
   "source": [
    "tmp = df.select(F.min('id'), F.max('id')).cache()\n",
    "tmp.show()"
   ]
  },
  {
   "cell_type": "code",
   "execution_count": 8,
   "id": "59eeac10",
   "metadata": {
    "ExecuteTime": {
     "end_time": "2022-01-13T18:14:27.542793Z",
     "start_time": "2022-01-13T18:14:27.410438Z"
    }
   },
   "outputs": [],
   "source": [
    "tmp = tmp.toPandas()"
   ]
  },
  {
   "cell_type": "code",
   "execution_count": 9,
   "id": "9238327e",
   "metadata": {
    "ExecuteTime": {
     "end_time": "2022-01-13T18:14:27.575148Z",
     "start_time": "2022-01-13T18:14:27.546074Z"
    }
   },
   "outputs": [
    {
     "data": {
      "text/plain": [
       "0    3424339\n",
       "dtype: int64"
      ]
     },
     "execution_count": 9,
     "metadata": {},
     "output_type": "execute_result"
    }
   ],
   "source": [
    "tmp['max(id)'] - tmp['min(id)']"
   ]
  },
  {
   "cell_type": "code",
   "execution_count": 10,
   "id": "a8f16c3c",
   "metadata": {
    "ExecuteTime": {
     "end_time": "2022-01-13T18:14:27.865186Z",
     "start_time": "2022-01-13T18:14:27.589870Z"
    }
   },
   "outputs": [],
   "source": [
    "if sc: sc.stop()"
   ]
  },
  {
   "cell_type": "code",
   "execution_count": null,
   "id": "d2118c21",
   "metadata": {},
   "outputs": [],
   "source": []
  }
 ],
 "metadata": {
  "kernelspec": {
   "display_name": "Python 3",
   "language": "python",
   "name": "python3"
  },
  "language_info": {
   "codemirror_mode": {
    "name": "ipython",
    "version": 3
   },
   "file_extension": ".py",
   "mimetype": "text/x-python",
   "name": "python",
   "nbconvert_exporter": "python",
   "pygments_lexer": "ipython3",
   "version": "3.8.11"
  }
 },
 "nbformat": 4,
 "nbformat_minor": 5
}
