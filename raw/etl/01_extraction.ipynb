{
 "cells": [
  {
   "cell_type": "code",
   "execution_count": 7,
   "id": "83a41a52",
   "metadata": {
    "ExecuteTime": {
     "end_time": "2022-01-13T14:03:27.885658Z",
     "start_time": "2022-01-13T14:03:23.647484Z"
    }
   },
   "outputs": [
    {
     "name": "stdout",
     "output_type": "stream",
     "text": [
      "--2022-01-13 11:03:23--  https://raw.githubusercontent.com/wcota/covid19br/master/cases-brazil-cities-time.csv.gz\n",
      "Resolvendo raw.githubusercontent.com (raw.githubusercontent.com)... 185.199.108.133, 185.199.110.133, 185.199.109.133, ...\n",
      "Conectando-se a raw.githubusercontent.com (raw.githubusercontent.com)|185.199.108.133|:443... conectado.\n",
      "A requisição HTTP foi enviada, aguardando resposta... 200 OK\n",
      "Tamanho: 85549971 (82M) [application/octet-stream]\n",
      "Salvando em: “/Users/IsabelGontijo/git/covid-19/raw/data/cases-brazil-cities-time.csv.gz”\n",
      "\n",
      "cases-brazil-cities 100%[===================>]  81,59M  21,1MB/s    em 3,9s    \n",
      "\n",
      "2022-01-13 11:03:27 (21,0 MB/s) - “/Users/IsabelGontijo/git/covid-19/raw/data/cases-brazil-cities-time.csv.gz” salvo [85549971/85549971]\n",
      "\n"
     ]
    }
   ],
   "source": [
    "!wget -P /Users/IsabelGontijo/git/covid-19/raw/data/ https://raw.githubusercontent.com/wcota/covid19br/master/cases-brazil-cities-time.csv.gz"
   ]
  },
  {
   "cell_type": "code",
   "execution_count": 8,
   "id": "4a76ede9",
   "metadata": {
    "ExecuteTime": {
     "end_time": "2022-01-13T14:03:44.623969Z",
     "start_time": "2022-01-13T14:03:42.629235Z"
    }
   },
   "outputs": [],
   "source": [
    "!gunzip /Users/IsabelGontijo/git/covid-19/raw/data/cases-brazil-cities-time.csv.gz"
   ]
  },
  {
   "cell_type": "code",
   "execution_count": null,
   "id": "3618bb57",
   "metadata": {},
   "outputs": [],
   "source": []
  }
 ],
 "metadata": {
  "kernelspec": {
   "display_name": "Python 3",
   "language": "python",
   "name": "python3"
  },
  "language_info": {
   "codemirror_mode": {
    "name": "ipython",
    "version": 3
   },
   "file_extension": ".py",
   "mimetype": "text/x-python",
   "name": "python",
   "nbconvert_exporter": "python",
   "pygments_lexer": "ipython3",
   "version": "3.8.11"
  }
 },
 "nbformat": 4,
 "nbformat_minor": 5
}
